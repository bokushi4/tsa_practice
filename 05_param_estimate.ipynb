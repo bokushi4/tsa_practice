{
 "cells": [
  {
   "cell_type": "markdown",
   "metadata": {},
   "source": [
    "# 最尤法によるパラメータ推定\n",
    "\n",
    "## 概要\n",
    "カルマンフィルタの適用に必要となるパラメータの推定方法（最尤法）に関して\n",
    "\n",
    "## 最尤法適用の流れ\n",
    "1. 適当なパラメータでカルマンフィルターを実行し、状態を推定\n",
    "1. この時の尤度（どれほど尤もらしくデータを表現できているか）を計算\n",
    "1. 尤度を最大化するようにパラメータを更新\n",
    "1. 尤度が最大化したパラメータを使って状態空間モデルを推定しなおす（尤もらしい状態空間モデルの出来上がり）\n",
    "\n",
    "## 尤度の計算方法\n",
    "ローカルレベルモデルでは、正規分布が仮定される → 平均・分散が尤度の計算に欲しい\n",
    "\n",
    "- 尤度計算に用いるデータ: 観測値の予測誤差 = 観測値 - 観測値の予測結果\n",
    "- 平均: 0 (誤差の期待値が0とするのは自然）\n",
    "- 分散: 観測値の予測誤差の分散\n",
    "    - (ある時点における観測値の予測誤差の分散) = (当該時点の状態の予測誤差の分散) + (観測方程式のノイズの分散)\n",
    "    - なお、(当該時点の状態の予測誤差の分散) = (1時点前の状態の予測誤差の分散) + (状態方程式のノイズの分散)"
   ]
  },
  {
   "cell_type": "code",
   "execution_count": 1,
   "metadata": {},
   "outputs": [],
   "source": [
    "%matplotlib inline"
   ]
  },
  {
   "cell_type": "code",
   "execution_count": 2,
   "metadata": {},
   "outputs": [],
   "source": [
    "import numpy as np\n",
    "import pandas as pd\n",
    "\n",
    "import matplotlib.pyplot as plt\n",
    "# グラフを横長にする\n",
    "plt.rcParams['figure.figsize'] = 15, 6\n",
    "# 文字サイズの指定\n",
    "plt.rcParams[\"font.size\"] = 18"
   ]
  },
  {
   "cell_type": "markdown",
   "metadata": {},
   "source": [
    "### データの用意"
   ]
  },
  {
   "cell_type": "code",
   "execution_count": 3,
   "metadata": {},
   "outputs": [],
   "source": [
    "data = pd.read_csv('https://raw.githubusercontent.com/jbrownlee/Datasets/master/airline-passengers.csv',\n",
    "                                    index_col='Month', parse_dates=True,  dtype='float')\n",
    "ts = data['Passengers']"
   ]
  },
  {
   "cell_type": "markdown",
   "metadata": {},
   "source": [
    "### 線形ガウス状態空間モデルにローカルレベルモデルを想定\n",
    "\n",
    "**状態方程式**: $x_t = x_{t-1} + \\varepsilon_t$<br>\n",
    "**観測方程式**: $y_t = x_{t} + \\eta_t$\n",
    "\n",
    "- 入力\n",
    "    - y: 当該時点の観測値\n",
    "    - x_pre: 1時点前の状態推定値\n",
    "    - x_err_var_pre: 1時点前の状態の予測誤差の分散\n",
    "    - sigma_y: 観測方程式の誤差項の分散 ($\\eta_t$の分散)\n",
    "    - sigma_x: 状態方程式の誤差項の分散 ($\\varepsilon_t$の分散)\n",
    "- 出力\n",
    "    - x_current: 当該時点の状態の推定値（カルマンフィルタ適用後）\n",
    "    - x_err_var_current: 当該時点の状態の予測誤差の分散（カルマンフィルタによる状態の補正を考慮）\n",
    "    - y_err: 観測値の予測誤差\n",
    "    - y_err_var: 観測値の予測誤差の分散"
   ]
  },
  {
   "cell_type": "code",
   "execution_count": 6,
   "metadata": {},
   "outputs": [],
   "source": [
    "def local_level_model(y, x_pre, x_err_var_pre, sigma_y, sigma_x):\n",
    "    # 今期の状態の予測　（状態方程式により算出）\n",
    "    x_current = x_pre + np.random.normal(loc=0, scale=np.sqrt(sigma_x))\n",
    "    \n",
    "    # 今期の予測誤差の分散 = 前期の予測誤差の分散 + 状態方程式のノイズの分散\n",
    "    x_err_var_current = x_err_var_pre + sigma_x\n",
    "    \n",
    "    # 今期の状態の推定値から観測値を予測\n",
    "    y_pred = x_current + np.random.normal(loc=0, scale=np.sqrt(sigma_y))\n",
    "    \n",
    "    # 観測値の予測誤差\n",
    "    y_err = y - y_pred\n",
    "    \n",
    "    # 観測値の予測誤差の分散 = 当該時点の状態の予測誤差の分散 + 観測方程式のノイズの分散\n",
    "    y_err_var = x_err_var_current + sigma_y\n",
    "    \n",
    "    # カルマンゲイン: 状態をどんくらい補正するか\n",
    "    k_gain = x_err_var_current / (x_err_var_current + sigma_y)\n",
    "    \n",
    "    # 状態の補正\n",
    "    x_current += k_gain * y_err\n",
    "    \n",
    "    # 状態の予測誤差の分散の修正\n",
    "    x_err_var_current *= (1 - k_gain)\n",
    "    \n",
    "    return x_current, x_err_var_current, y_err, y_err_var"
   ]
  },
  {
   "cell_type": "code",
   "execution_count": 12,
   "metadata": {},
   "outputs": [],
   "source": [
    "def calc_loglikelihood(x_0, x_err_var_0, std_x, std_y):\n",
    "    # パラメータ更新時に分散が負になることを回避\n",
    "    sigma_x = std_x ** 2\n",
    "    sigma_y = std_y ** 2\n",
    "    \n",
    "    # 状態, 初期値は x_0\n",
    "    x = ts.copy()\n",
    "\n",
    "    # 観測値の推定結果\n",
    "    y_err = ts.copy()\n",
    "    y_err_var = ts.copy()\n",
    "\n",
    "    # 状態の予測誤差の分散, 初期値は x_err_var_0\n",
    "    x_err_var = np.append(x_err_var_0, np.zeros(len(ts)))\n",
    "    \n",
    "    # カルマンフィルタによる状態の補正（推定）\n",
    "    for i in range(len(ts)):\n",
    "        if i == 0:\n",
    "            x[i], x_err_var[i+1], y_err[i], y_err_var[i] = local_level_model(ts[i], x_0, x_err_var[i], sigma_y=sigma_y, sigma_x=sigma_x)\n",
    "        else:\n",
    "            x[i], x_err_var[i+1], y_err[i], y_err_var[i] = local_level_model(ts[i], x[i-1], x_err_var[i], sigma_y=sigma_y, sigma_x=sigma_x)\n",
    "\n",
    "    #　対数尤度 = - N / 2 * np.log(2 * np.pi) - 1 / 2 * (np.log(sigma^2) + y_err^2 / sigma^2)\n",
    "    # 定数部分を除去 + 負の対数尤度の最小化問題にする\n",
    "    loglikelihood = sum(np.log(y_err_var) + y_err ** 2 / y_err_var) / 2\n",
    "    return loglikelihood"
   ]
  },
  {
   "cell_type": "code",
   "execution_count": 22,
   "metadata": {},
   "outputs": [
    {
     "data": {
      "text/plain": [
       "811.7659203197206"
      ]
     },
     "execution_count": 22,
     "metadata": {},
     "output_type": "execute_result"
    }
   ],
   "source": [
    "calc_loglikelihood(x_0=1e2, x_err_var_0=1e2, std_x=1e2, std_y=1e2)"
   ]
  },
  {
   "cell_type": "code",
   "execution_count": null,
   "metadata": {},
   "outputs": [],
   "source": []
  }
 ],
 "metadata": {
  "kernelspec": {
   "display_name": "Python 3",
   "language": "python",
   "name": "python3"
  },
  "language_info": {
   "codemirror_mode": {
    "name": "ipython",
    "version": 3
   },
   "file_extension": ".py",
   "mimetype": "text/x-python",
   "name": "python",
   "nbconvert_exporter": "python",
   "pygments_lexer": "ipython3",
   "version": "3.8.5"
  }
 },
 "nbformat": 4,
 "nbformat_minor": 4
}
