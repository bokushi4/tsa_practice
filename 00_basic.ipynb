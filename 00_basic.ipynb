{
 "cells": [
  {
   "cell_type": "markdown",
   "metadata": {},
   "source": [
    " # 時系列分析の基礎知識"
   ]
  },
  {
   "cell_type": "markdown",
   "metadata": {},
   "source": [
    "##  時系列データの種類\n",
    "- 原系列\n",
    "    - 加工していない生のデータ\n",
    "    - 時系列分析の目的はほとんどの場合、原系列の性質を明らかにすることだが、\n",
    "      原系列に何らかの処理を施した系列を扱うことが専ら\n",
    "\n",
    "\n",
    "- 対数系列\n",
    "    - 原系列に対数変換を施した系列\n",
    "    - 対数変換する理由：<br>\n",
    "      原系列では定常性の仮定が満たされない場合がある（例：値が大きくなるにつれてばらつきが大きくなる）が、<br>\n",
    "      対数変換によってその問題が解消可能であることが多いから\n",
    "      （定常性が満たされないとモデルへのフィッティングなど分析が難しいから定常性を満たすデータにしたがる？）\n",
    "\n",
    "\n",
    "- 差分系列 / 階差系列\n",
    "     - $\\Delta y_t (= y_t - y_{t-1})$ の系列\n",
    "     - 単位根過程に従ったデータの差分系列は定常過程となる\n",
    "\n",
    "\n",
    "- 対数差分系列\n",
    "    - 対数系列の差分系列\n",
    "    - 通常の変化率 $\\frac{y_t-y_{t-1}}{y_{t-1}}$ の代わりに用いられることが多い\n",
    "        -　$\\frac{y_t-y_{t-1}}{y_{t-1}}$　が微小だとすると、対数差分系列は以下のように近似可能なため\n",
    "        - $\\Delta logy_t = log\\left(y_t\\right) - log\\left(y_{t-1}\\right)= log\\left(\\frac{y_t}{y_{t-1}}\\right) = log\\left(1+\\frac{y_t-y_{t-1}}{y_{t-1}}\\right) \\approx \\frac{y_t-y_{t-1}}{y_{t-1}}$\n",
    "        - 参考：マクローリン展開<br>\n",
    "          $f(x) = f(0) + f'(x)x + \\frac{f''(0)}{2!}x^2 + \\cdots \\approx f(0) + f'(0)x \\quad {\\rm if.}\\ x \\approx 0$\n",
    "\n",
    "\n",
    "- 季節調節済み系列 / 季調済み系列 (seasonally adjusted series)\n",
    "    - 原系列から季節変動を取り除いた系列\n",
    "    - 季節的な変動を含むデータの場合、季節変動に起因しない変動の分析が容易になる"
   ]
  },
  {
   "cell_type": "markdown",
   "metadata": {},
   "source": [
    "## 基本的な統計量\n",
    "- 期待値 / 平均 $\\mu_t$\n",
    "- 分散 $\\sigma^2_t$\n",
    "    - 偏差の２乗の期待値\n",
    "    - 平均からどの程度ばらつくかを表す\n",
    "- 標準偏差 $\\sigma_t$\n",
    "    - 分散の平方根\n",
    "\n",
    "\n",
    "- 自己共分散 (autocovariance)\n",
    "    - 同一時系列データにおいて異なる時刻間の共分散\n",
    "    - $k$ 次の自己共分散<br>\n",
    "      $\\gamma_{k,t}= E\\left[\\left(y_t - \\mu_t\\right)\\left(y_{t-k} - \\mu_{t-k}\\right)\\right]$\n",
    "    - 大まかな性質\n",
    "        - $\\gamma_{k,t}>0$: $k$時刻離れた系列に似た変動をしている\n",
    "        - $\\gamma_{k,t}\\approx0$: $k$時刻離れた系列とは何の相関もない\n",
    "        - $\\gamma_{k,t}>0$: $k$時刻離れた系列とは逆の変動をしている\n",
    "        - $\\gamma_{0,t} = \\sigma^2_t$ とみなせる\n",
    "    - 自己共分散関数\n",
    "        - $k$ を変数とした関数で表す自己共分散\n",
    "        \n",
    "        \n",
    "- 自己相関係数 (autocorrelation coefficient)\n",
    "    - 自己共分散は系列のスケール（単位）に依存して変化するため、効果量の強弱を推し量ることができない問題を抱える\n",
    "    - そのため自己共分散を規格化する統計量が必要になる→自己相関（係数）\n",
    "    - $k$ 次の自己相関<br>\n",
    "      $\\rho_{k,t} = \\frac{\\gamma_{k,t}}{\\sqrt{\\sigma^2_t \\sigma^2_{t-k}}}$\n",
    "    - 大まかな性質\n",
    "        - $\\rho_{0,t} = 1$\n",
    "        - $\\left|\\rho_{k,t}\\right| \\leq 1 \\quad {\\rm if.}\\ k\\geq0$\n",
    "    - 自己相関関数\n",
    "        - $k$ を変数とした関数で表す自己相関\n",
    "    - コレログラム(correlogram)\n",
    "        - 自己相関関数をグラフに描いたもの"
   ]
  },
  {
   "cell_type": "markdown",
   "metadata": {},
   "source": [
    "## 時系列分析の基本的な考え方\n",
    "- 問題点\n",
    "    - ある時刻におけるデータの期待値や分散は推定が不可能\n",
    "        - 時刻 $t$ におけるデータを複数観測することが不可能だから\n",
    "- 時系列分析におけるアプローチ\n",
    "    - 観測された時系列データ $\\{y_t\\}$ を確率変数列 $\\{Y_t\\}$ からのサンプリング結果と見なして、<br>\n",
    "      確率変数列の生成過程に対して何らかの性質・構造を仮定する\n",
    "    - このような確率変数列は確率過程 (stochastic process) / データ生成過程 (DGP, Data Generating Process)と呼ばれる\n",
    "    - 確率過程の構造は時系列モデルと呼ばれる"
   ]
  },
  {
   "cell_type": "markdown",
   "metadata": {},
   "source": [
    "## 定常性 (stationarity)\n",
    "\n",
    "### 弱定常性 (weak stationarity)\n",
    "- 共分散定常性 (covariance stationarity) とも呼ばれる\n",
    "- 任意の $t, k$ に対して以下が成立\n",
    "    - $\\mu_{t} = \\mu$（時不変）\n",
    "    - $\\gamma_{k,t} = E[(y_t - \\mu)(y_{t-k} - \\mu)] = \\gamma_k$（時不変・$k$にのみ依存→$\\gamma_k=\\gamma_{-k}$が成立）\n",
    "- 過程が弱定常の時，自己相関も時不変になる\n",
    "    - $\\rho_{k,t} = \\frac{\\gamma_{k,t}}{\\sqrt{\\sigma^2_t \\sigma^2_{t-k}}} = \\frac{\\gamma_{k,t}}{\\gamma_0} = \\rho_k$\n",
    "    \n",
    "### 強定常性 (strict stationarity)\n",
    "- 時系列の任意の時点から切り出す長さ $l$ の系列における同時分布が不変\n",
    "    - $f(y_t, y_{t+1}, \\cdots, y_{t+l}) = f(y_{t+k}, y_{t+k+1}, \\cdots, y_{t+k+l})$\n",
    "\n",
    "### 正規過程 (Gaussian process)\n",
    "- 任意の $t, l$ に対して，$(y_t, y_{t+1}, \\cdots, y_{t+l})'$ が多変量正規分布に従う過程\n",
    "- 一般に，弱定常過程が強定常過程であるとは限らないが，<font color=\"red\">正規過程は弱定常と強定常が同値</font>\n",
    "    - 多変量正規分布は期待値と共分散により完全に決定されるから（弱定常正規過程は強定常）\n",
    "    - 単に $y_t$ の周辺分布が正規分布に従うのみであれば，弱定常と強定常は同値と限らないので注意"
   ]
  },
  {
   "cell_type": "markdown",
   "metadata": {},
   "source": [
    "## ホワイトノイズ\n",
    "\n",
    "### iid系列\n",
    "- iid (independently and identically distributed): 各時刻のデータが互いに独立でかつ同一の分布に従う\n",
    "- 期待値が0のiid系列は、撹乱項 (innovation, disturbance term) として用いることが可能\n",
    "    - 時系列モデルにおける確率的変動を表現する\n",
    "    - ただ、独立性や同一分布性といった仮定は強すぎる制約であり、必ずしも分析に必要なものではない\n",
    "    \n",
    "### ホワイトノイズ (white noise)\n",
    "- 撹乱項として用いることが可能でありながら、iid系列より仮定が弱い系列\n",
    "- 全ての時刻 $t$ において以下が成立\n",
    "\\begin{eqnarray}\n",
    "    & &E[\\varepsilon_t]=0 \\\\\n",
    "    & &\\gamma_k=E[\\varepsilon_t \\varepsilon_{t-k}]=\n",
    "        \\begin{cases}\n",
    "            \\sigma^2, \\quad k = 0 \\\\\n",
    "            0, \\quad k \\neq 0 \\\\\n",
    "        \\end{cases}\n",
    "\\end{eqnarray}\n",
    "- 性質\n",
    "    - 全ての時刻で期待値が0\n",
    "    - 全ての時刻で分散が一定\n",
    "    - 自己相関を持たない"
   ]
  },
  {
   "cell_type": "markdown",
   "metadata": {},
   "source": [
    "## 自己相関の検定\n",
    "- 時系列データが自己相関をもつかどうかは時系列分析のしやすさの点で重要\n",
    "- 定常性とエルゴート性（集合平均＝時間平均）を満たす場合は自己相関の推定値の計算が容易\n",
    "    - 期待値の推定量：標本平均 $\\bar{y}=\\frac{1}{T} \\sum_{t=1}^T y_t$\n",
    "    - 自己共分散の推定量：標本自己共分散 $\\bar{\\gamma_k}=\\frac{1}{T} \\sum_{t=k+1}^T (y_t-\\bar{y})(y_{t-k}-\\bar{y}),\\ k=0,1,2,\\cdots$\n",
    "    - 自己相関の推定量：標本自己相関係数 $\\bar{\\rho}_k=\\frac{\\bar{\\gamma_k}}{\\bar{\\gamma_0}},\\ k=1,2,3,\\cdots$\n",
    "- 標本自己相関係数を用いて検定を行うことが可能\n",
    "    - 自己相関がないという帰無仮説が棄却されるかどうかで判断"
   ]
  }
 ],
 "metadata": {
  "kernelspec": {
   "display_name": "Python 3",
   "language": "python",
   "name": "python3"
  },
  "language_info": {
   "codemirror_mode": {
    "name": "ipython",
    "version": 3
   },
   "file_extension": ".py",
   "mimetype": "text/x-python",
   "name": "python",
   "nbconvert_exporter": "python",
   "pygments_lexer": "ipython3",
   "version": "3.8.5"
  }
 },
 "nbformat": 4,
 "nbformat_minor": 4
}
